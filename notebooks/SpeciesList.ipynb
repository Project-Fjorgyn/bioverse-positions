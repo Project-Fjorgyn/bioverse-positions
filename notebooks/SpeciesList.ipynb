{
 "cells": [
  {
   "cell_type": "markdown",
   "id": "5b2f9e0b-9503-4946-ba63-cd04829d37a4",
   "metadata": {},
   "source": [
    "# NPN API Spec\n",
    "https://docs.google.com/document/d/1yNjupricKOAXn6tY1sI7-EwkcfwdGUZ7lxYv7fcPjO8"
   ]
  },
  {
   "cell_type": "code",
   "execution_count": 8,
   "id": "e97dc680-fec0-4c28-8c88-3cdc9a886fb6",
   "metadata": {},
   "outputs": [],
   "source": [
    "import requests\n",
    "import json\n",
    "import pandas as pd\n",
    "\n",
    "def make_the_call(path, endpoint, **kwargs):\n",
    "    url = f'http://www.usanpn.org/npn_portal/{path}/{endpoint}.json'\n",
    "    if kwargs:\n",
    "        query = '&'.join([f'{key}={value}' for key, value in kwargs.items()])\n",
    "        url = f'{url}?{query}'\n",
    "    return requests.request(\n",
    "        url=url,\n",
    "        method='GET'\n",
    "    ).json()"
   ]
  },
  {
   "cell_type": "code",
   "execution_count": 9,
   "id": "12d94d36-1359-4412-a03f-f27d40290786",
   "metadata": {},
   "outputs": [],
   "source": [
    "species_list = []\n",
    "for row in make_the_call('species', 'getSpecies'):\n",
    "    genus = row['genus'].lower()\n",
    "    species = row['species'].lower()\n",
    "    species_list.append({\n",
    "        'genus': genus,\n",
    "        'species': species\n",
    "    })\n",
    "pd.DataFrame(species_list).to_csv('species_list.csv', index=False)"
   ]
  },
  {
   "cell_type": "code",
   "execution_count": null,
   "id": "db4de3ba-083f-45ad-aa53-53fbc419449c",
   "metadata": {},
   "outputs": [],
   "source": []
  }
 ],
 "metadata": {
  "kernelspec": {
   "display_name": "Python 3",
   "language": "python",
   "name": "python3"
  },
  "language_info": {
   "codemirror_mode": {
    "name": "ipython",
    "version": 3
   },
   "file_extension": ".py",
   "mimetype": "text/x-python",
   "name": "python",
   "nbconvert_exporter": "python",
   "pygments_lexer": "ipython3",
   "version": "3.6.9"
  }
 },
 "nbformat": 4,
 "nbformat_minor": 5
}
