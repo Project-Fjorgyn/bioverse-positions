{
 "cells": [
  {
   "cell_type": "code",
   "execution_count": 2,
   "id": "7288f975-8008-4813-b517-3aae1ba80858",
   "metadata": {},
   "outputs": [],
   "source": [
    "import h3\n",
    "import pandas as pd\n",
    "from tqdm import tqdm\n",
    "from collections import defaultdict"
   ]
  },
  {
   "cell_type": "code",
   "execution_count": 21,
   "id": "6633a51c-c1cc-4342-b33c-3427103e4809",
   "metadata": {},
   "outputs": [
    {
     "data": {
      "text/plain": [
       "{'genus': 8, 'species': 9, 'decimalLatitude': 21, 'decimalLongitude': 22}"
      ]
     },
     "execution_count": 21,
     "metadata": {},
     "output_type": "execute_result"
    }
   ],
   "source": [
    "columns = next(open('gbif_bulk.csv', 'rb')).decode('utf-8').strip().split('\\t')\n",
    "cols_of_interest = {\n",
    "    col: columns.index(col)\n",
    "    for col in ('genus', 'species', 'decimalLatitude', 'decimalLongitude')\n",
    "}\n",
    "cols_of_interest"
   ]
  },
  {
   "cell_type": "code",
   "execution_count": 3,
   "id": "d7a2a9b6-78ce-4fbc-9241-172646201f44",
   "metadata": {},
   "outputs": [],
   "source": [
    "species = pd.read_csv('species_list.csv')\n",
    "species_set = set([\n",
    "    (row['genus'], row['species'])\n",
    "    for _, row in species.iterrows()\n",
    "])"
   ]
  },
  {
   "cell_type": "code",
   "execution_count": 34,
   "id": "0c67e0da-7ec0-46a2-94e0-77a8005d416d",
   "metadata": {},
   "outputs": [
    {
     "name": "stderr",
     "output_type": "stream",
     "text": [
      "9133862it [00:32, 284825.57it/s]\n"
     ]
    }
   ],
   "source": [
    "new_rows = []\n",
    "for i, row in tqdm(enumerate(open('gbif_bulk.csv', 'rb'))):\n",
    "    if i == 0:\n",
    "        continue\n",
    "    cols = row.decode('utf-8').strip().split('\\t')\n",
    "    new_row = {\n",
    "        col: cols[index]\n",
    "        for col, index in cols_of_interest.items()\n",
    "    }\n",
    "    new_row['genus'] = new_row['genus'].lower()\n",
    "    new_row['species'] = new_row['species'].lower().split(' ')[-1].strip()\n",
    "    if (new_row['genus'], new_row['species']) in species_set:\n",
    "        new_rows.append(new_row)\n",
    "df = pd.DataFrame(new_rows)"
   ]
  },
  {
   "cell_type": "code",
   "execution_count": 46,
   "id": "829f5257-d65a-49ab-bac6-51f8ea77b53a",
   "metadata": {},
   "outputs": [],
   "source": [
    "df = df.rename({'decimalLatitude': 'lat', 'decimalLongitude': 'lon'}, axis=1)\n",
    "df['lat'] = df['lat'].astype(float)\n",
    "df['lon'] = df['lon'].astype(float)\n",
    "df.to_csv('gbif_positions.csv', index=False)"
   ]
  },
  {
   "cell_type": "code",
   "execution_count": 5,
   "id": "96ca3a9f-2fd6-41c4-93d7-46980284ae47",
   "metadata": {},
   "outputs": [],
   "source": [
    "df = pd.read_csv('gbif_positions.csv')"
   ]
  },
  {
   "cell_type": "code",
   "execution_count": 19,
   "id": "2d176d19-2120-409b-8d4e-7f023e723e96",
   "metadata": {},
   "outputs": [
    {
     "name": "stderr",
     "output_type": "stream",
     "text": [
      "100%|██████████| 1650/1650 [14:01<00:00,  1.96it/s]\n"
     ]
    }
   ],
   "source": [
    "rows = []\n",
    "\n",
    "file_name = 'h3_positions_limited.csv'\n",
    "with open(file_name, 'w') as fh:\n",
    "    fh.write('hex_id,genus,species,count\\n')\n",
    "\n",
    "for genus, species in tqdm(species_set):\n",
    "    sub_hexes = defaultdict(int)\n",
    "    sub_df = df[(df['genus'] == genus) & (df['species'] == species)]\n",
    "    for _, row in sub_df.iterrows():\n",
    "        for zoom in range(9):\n",
    "            sub_hexes[h3.geo_to_h3(row['lat'], row['lon'], zoom)] += 1\n",
    "    lines = '\\n'.join([\n",
    "        f'{hex_id},{genus},{species},{count}'\n",
    "        for hex_id, count in sub_hexes.items()\n",
    "    ]) + '\\n'\n",
    "    with open(file_name, 'a') as fh:\n",
    "        fh.write(lines)"
   ]
  },
  {
   "cell_type": "code",
   "execution_count": null,
   "id": "8d220d6b-9b78-417d-bf46-b5e9b7647a2d",
   "metadata": {},
   "outputs": [],
   "source": []
  }
 ],
 "metadata": {
  "kernelspec": {
   "display_name": "Python 3",
   "language": "python",
   "name": "python3"
  },
  "language_info": {
   "codemirror_mode": {
    "name": "ipython",
    "version": 3
   },
   "file_extension": ".py",
   "mimetype": "text/x-python",
   "name": "python",
   "nbconvert_exporter": "python",
   "pygments_lexer": "ipython3",
   "version": "3.6.9"
  }
 },
 "nbformat": 4,
 "nbformat_minor": 5
}
